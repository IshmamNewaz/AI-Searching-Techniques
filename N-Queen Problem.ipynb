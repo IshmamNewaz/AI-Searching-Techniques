{
 "cells": [
  {
   "cell_type": "code",
   "execution_count": 26,
   "id": "11798bfd",
   "metadata": {},
   "outputs": [
    {
     "name": "stdout",
     "output_type": "stream",
     "text": [
      "Count Starts from 0\n",
      "QUEEN ATTACT WITH: Row Pos: 1 Column Pos: 3 AND  Row Pos: 2 Column Pos: 4\n",
      "Queens are under attack!\n"
     ]
    }
   ],
   "source": [
    "def Func_Check_Attack(board, N):\n",
    "    # CHECK FOR ATTACK IN ROW AND COLUMN\n",
    "    for i in range(N):\n",
    "        row_count = 0\n",
    "        col_count = 0\n",
    "        for j in range(N):\n",
    "            row_count += board[i][j]\n",
    "            col_count += board[j][i]\n",
    "        #ROW CHECKINGK\n",
    "        if row_count > 1:\n",
    "            return True\n",
    "        #COLUMN CHECKING\n",
    "        if col_count > 1:\n",
    "            return True\n",
    "    \n",
    "    # DIAGONAL ATTACKING CHECK\n",
    "    for i in range(N):\n",
    "        for j in range(N):\n",
    "            if board[i][j] == 1:\n",
    "                \n",
    "                \n",
    "                # CHECK DIAGONAL UPPER LEFT SIDE \n",
    "                for k, l in zip(range(i, -1, -1), range(j, -1, -1)):\n",
    "                    if board[k][l] == 1 and (k != i or l != j):\n",
    "                        print(\"Count Starts from 0\")\n",
    "                        print(\"QUEEN ATTACT WITH: \"+\"Row Pos: \"+str(i)+\" Column Pos: \"+str(j)+\" AND \"+\" Row Pos: \"+str(k)+\" Column Pos: \"+str(l))\n",
    "                        return True\n",
    "                \n",
    "                # CHECK DIAGONAL UPPER RIGHT SIDE\n",
    "                for k, l in zip(range(i, -1, -1), range(j, N)):\n",
    "                    if board[k][l] == 1 and (k != i or l != j):\n",
    "                        print(\"Count Starts from 0\")\n",
    "                        print(\"QUEEN ATTACT WITH: \"+\"Row Pos: \"+str(i)+\" Column Pos: \"+str(j)+\" AND \"+\" Row Pos: \"+str(k)+\" Column Pos: \"+str(l))\n",
    "                        return True\n",
    "                \n",
    "                \n",
    "                # CHECK DIAGONAL LOWER LEFT SIDE\n",
    "                for k, l in zip(range(i, N), range(j, -1, -1)):\n",
    "                    if board[k][l] == 1 and (k != i or l != j):\n",
    "                        print(\"Count Starts from 0\")\n",
    "                        print(\"QUEEN ATTACT WITH: \"+\"Row Pos: \"+str(i)+\" Column Pos: \"+str(j)+\" AND \"+\" Row Pos: \"+str(k)+\" Column Pos: \"+str(l))\n",
    "                        return True\n",
    "                \n",
    "                \n",
    "                # CHECK DIAGONAL LOWER RIGHT SIDE\n",
    "                for k, l in zip(range(i, N), range(j, N)):\n",
    "                    if board[k][l] == 1 and (k != i or l != j):\n",
    "                        print(\"Count Starts from 0\")\n",
    "                        print(\"QUEEN ATTACT WITH: \"+\"Row Pos: \"+str(i)+\" Column Pos: \"+str(j)+\" AND \"+\" Row Pos: \"+str(k)+\" Column Pos: \"+str(l))\n",
    "                        return True\n",
    "    return False\n",
    "\n",
    "\n",
    "N = 6\n",
    "Chess_Board_Queen_Placement = [\n",
    "    [1, 0, 0, 0, 0, 0],\n",
    "    [0, 0, 0, 1, 0, 0],\n",
    "    [0, 0, 0, 0, 1, 0],\n",
    "    [0, 0, 0, 0, 0, 0],\n",
    "    [0, 0, 1, 0, 0, 0],\n",
    "    [0, 0, 0, 0, 0, 0]\n",
    "]\n",
    "if Func_Check_Attack(Chess_Board_Queen_Placement, N):\n",
    "    print(\"Queens are under attack!\")\n",
    "else:\n",
    "    print(\"Queens are not under attack.\")\n",
    "    "
   ]
  },
  {
   "cell_type": "code",
   "execution_count": null,
   "id": "2d959b4e",
   "metadata": {},
   "outputs": [],
   "source": []
  }
 ],
 "metadata": {
  "kernelspec": {
   "display_name": "Python 3 (ipykernel)",
   "language": "python",
   "name": "python3"
  },
  "language_info": {
   "codemirror_mode": {
    "name": "ipython",
    "version": 3
   },
   "file_extension": ".py",
   "mimetype": "text/x-python",
   "name": "python",
   "nbconvert_exporter": "python",
   "pygments_lexer": "ipython3",
   "version": "3.11.4"
  }
 },
 "nbformat": 4,
 "nbformat_minor": 5
}
