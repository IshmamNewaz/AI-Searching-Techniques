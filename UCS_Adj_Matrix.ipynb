{
 "cells": [
  {
   "cell_type": "code",
   "execution_count": 6,
   "id": "d46ba0be",
   "metadata": {},
   "outputs": [
    {
     "name": "stdout",
     "output_type": "stream",
     "text": [
      "The shortest path cost between 1 and 5 is 7.\n"
     ]
    }
   ],
   "source": [
    "import queue\n",
    "\n",
    "def readGraphData(file):\n",
    "    f = open(file, \"r\")\n",
    "\n",
    "    vertex_and_edge = f.readline()\n",
    "    v = int(vertex_and_edge.split()[0])\n",
    "    e = int(vertex_and_edge.split()[1])\n",
    "\n",
    "    edges = []\n",
    "    for line in f.readlines():\n",
    "        edges.append(list(map(int, line.split())))\n",
    "\n",
    "    return v, e, edges\n",
    "\n",
    "\n",
    "def heuristic(n):\n",
    "    H_dist = {\n",
    "        0: 5,\n",
    "        1: 2,\n",
    "        2: 0,\n",
    "        3: 2,\n",
    "        4: 6,\n",
    "    }\n",
    "    return H_dist[n]\n",
    "\n",
    "def adjacencyMatrix(edges, vertex):\n",
    "    graph = [[0 for _ in range(vertex)] for _ in range(vertex)]\n",
    "\n",
    "    for edge in edges:\n",
    "        u, v, weight = edge\n",
    "        graph[u][v] = weight\n",
    "        graph[v][u] = weight  \n",
    "\n",
    "    return graph\n",
    "\n",
    "\n",
    "def ucs(graph, start, goal):\n",
    "    q = queue.PriorityQueue()\n",
    "    q.put((0, start))\n",
    "\n",
    "    visited = set()\n",
    "\n",
    "    while not q.empty():\n",
    "        cost, node = q.get()\n",
    "\n",
    "        if node == goal:\n",
    "            return cost\n",
    "\n",
    "        if node not in visited:\n",
    "            visited.add(node)\n",
    "\n",
    "            for neighbor in range(len(graph)):\n",
    "                if graph[node][neighbor] > 0 and neighbor not in visited:\n",
    "                    q.put((cost + graph[node][neighbor], neighbor))\n",
    "\n",
    "    return float('inf')\n",
    "\n",
    "\n",
    "\n",
    "\n",
    "vertex, edge, edges = readGraphData(\"ReadGraphFilewithCost.txt\")\n",
    "adj_matrix = adjacencyMatrix(edges, vertex)\n",
    "\n",
    "start_node = 1\n",
    "goal_node = 5\n",
    "\n",
    "shortest_path_cost = ucs(adj_matrix, start_node, goal_node)\n",
    "print(f\"The shortest path cost between {start_node} and {goal_node} is {shortest_path_cost}.\")\n"
   ]
  },
  {
   "cell_type": "code",
   "execution_count": null,
   "id": "74cf3e7f",
   "metadata": {},
   "outputs": [],
   "source": []
  }
 ],
 "metadata": {
  "kernelspec": {
   "display_name": "Python 3 (ipykernel)",
   "language": "python",
   "name": "python3"
  },
  "language_info": {
   "codemirror_mode": {
    "name": "ipython",
    "version": 3
   },
   "file_extension": ".py",
   "mimetype": "text/x-python",
   "name": "python",
   "nbconvert_exporter": "python",
   "pygments_lexer": "ipython3",
   "version": "3.11.4"
  }
 },
 "nbformat": 4,
 "nbformat_minor": 5
}
